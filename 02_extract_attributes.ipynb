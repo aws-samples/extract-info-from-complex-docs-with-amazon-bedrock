{
 "cells": [
  {
   "cell_type": "markdown",
   "id": "0b32f61b",
   "metadata": {},
   "source": [
    "# Extract Information from Amazon Bedrock\n",
    "\n",
    "> This notebook should work well with the **`conda_python3`** kernel in SageMaker Notebook instances.\n",
    "\n",
    "---\n",
    "\n",
    "In this notebook, we demonstrate how to extract custom information from processed documents.\n",
    "\n",
    "We will use [Amazon Bedrock](https://aws.amazon.com/bedrock/) by doing a `boto3` call to invoke an LLM, and provide the attribute schema and the processed document as inputs.\n",
    "\n",
    "Note: all processed texts are stored in [processed-files](processed-files/) after running the previous notebook. If you have not run it yet, go back to `01_process_pdf.ipynb` first.\n",
    "\n",
    "---"
   ]
  },
  {
   "cell_type": "markdown",
   "id": "f4d60ff2",
   "metadata": {},
   "source": [
    "# 1. PREPARATIONS"
   ]
  },
  {
   "cell_type": "code",
   "execution_count": 39,
   "id": "477a8a59",
   "metadata": {
    "tags": []
   },
   "outputs": [],
   "source": [
    "import json\n",
    "import os\n",
    "\n",
    "import boto3\n",
    "import botocore"
   ]
  },
  {
   "cell_type": "markdown",
   "id": "9720e142",
   "metadata": {},
   "source": [
    "As before, let's set up a Bedrock client:"
   ]
  },
  {
   "cell_type": "code",
   "execution_count": 28,
   "id": "17101b51",
   "metadata": {
    "tags": []
   },
   "outputs": [],
   "source": [
    "bedrock_runtime = boto3.client(\"bedrock-runtime\")"
   ]
  },
  {
   "cell_type": "markdown",
   "id": "cfdb41e4",
   "metadata": {},
   "source": [
    "---\n",
    "\n",
    "# 2. PROCESSING"
   ]
  },
  {
   "cell_type": "markdown",
   "id": "78f314e6-676f-4632-ae49-f9213e3e6699",
   "metadata": {},
   "source": [
    "### Input document\n",
    "\n",
    "First, let's load one of the processed documents. Select which version of the processed document you like based on your visual inspection of the alternatives from Textract and Bedrock:"
   ]
  },
  {
   "cell_type": "code",
   "execution_count": 29,
   "id": "9b2eaf7b-8f57-4d10-ab98-88159873f238",
   "metadata": {
    "tags": []
   },
   "outputs": [],
   "source": [
    "input_path = \"demo-files\"\n",
    "output_path = \"processed-files\"\n",
    "s3_bucket = \"information-extraction-workshop\""
   ]
  },
  {
   "cell_type": "code",
   "execution_count": null,
   "id": "075d6640-00ab-46db-b1e0-eadcfe71bc2f",
   "metadata": {
    "tags": []
   },
   "outputs": [],
   "source": [
    "processed_file = \"2310.06825v1_bedrock.txt\"  # enter the document name here\n",
    "\n",
    "with open(f\"{output_path}/{processed_file}\", \"r\") as file:\n",
    "    document = file.read()\n",
    "\n",
    "print(document[:1000] + \"...\")  # preview the document"
   ]
  },
  {
   "cell_type": "markdown",
   "id": "225600d6",
   "metadata": {},
   "source": [
    "### Prompt template"
   ]
  },
  {
   "cell_type": "markdown",
   "id": "8f7ab141",
   "metadata": {},
   "source": [
    "We will put together a prompt that instructs the model to extract attributes. You can find example system and user prompts below. Feel free to iterate on the prompt!"
   ]
  },
  {
   "cell_type": "code",
   "execution_count": 31,
   "id": "df4578d9",
   "metadata": {
    "tags": []
   },
   "outputs": [],
   "source": [
    "system_prompt = \"\"\"You are an AI assistant expert in extracting information from documents.\n",
    "Carefully read the document given below in <document></document> tags.\n",
    "Extract attributes listed below in <attributes></attributes> tags from the document.\n",
    "The answer must contain the extracted attributes in JSON format. Do NOT include any other information in the answer.\n",
    "If the attribute has multiple values, provide them as a list in this format: [\"value1\", \"value2\", \"value3\"].\n",
    "If the attribute requires providing a description or free-form text, the value of the attribute must contain this text.\n",
    "Note that some attributes are not directly stated in the document, but their values are implicitly defined in the text.\n",
    "Do your best to extract a full value for each requested attribute from the document.\n",
    "Output the JSON in <json></json> tags.\n",
    "\"\"\"\n",
    "\n",
    "prompt = \"\"\"Here is the document:\n",
    "<document>\n",
    "{document}\n",
    "</document>\n",
    "\n",
    "Here are the attributes to extract:\n",
    "<attributes>\n",
    "{attributes}\n",
    "</attributes>\"\"\""
   ]
  },
  {
   "cell_type": "markdown",
   "id": "30e16e6c",
   "metadata": {},
   "source": [
    "Notice that we keep `{document}` and `{attributes}` placeholders. We will populate them with the actual data when running the prompt."
   ]
  },
  {
   "cell_type": "markdown",
   "id": "87a0534d-8e7e-4114-b424-fede5fc7a8a4",
   "metadata": {},
   "source": [
    "### Attributes schema\n",
    "\n",
    "Let's define a list of attributes we want to extract. Think about what information you would like to get out of the document. Don't be afraid to get creative!\n",
    "\n",
    "Remember to provide information about the attributes beyond their name. This would help the LLM to better identify the attributes in the document. We recommend the following approach:\n",
    "\n",
    "```\n",
    "1. Attribute 1. Description of the attribute 1.\n",
    "2. Attribute 2. Description of the attribute 2.\n",
    "...\n",
    "```"
   ]
  },
  {
   "cell_type": "code",
   "execution_count": 33,
   "id": "3d8ee3c8-7fdd-44a5-b33a-7329496301e8",
   "metadata": {
    "tags": []
   },
   "outputs": [],
   "source": [
    "#########################################\n",
    "#    TASK 1: Define desired attributes\n",
    "#########################################\n",
    "\n",
    "attributes = \"\"\"\n",
    "1. Title. The title of the document.\n",
    "...\n",
    "\"\"\"\n",
    "\n",
    "#########################################\n",
    "#    TASK 1: Define desired attributes\n",
    "#########################################"
   ]
  },
  {
   "cell_type": "markdown",
   "id": "7108e955",
   "metadata": {},
   "source": [
    "* If you have trouble after a few minutes, check out `answers/answers.ipynb`"
   ]
  },
  {
   "cell_type": "markdown",
   "id": "cf753d23-d0ec-4e4b-9f58-20feb8e49d5c",
   "metadata": {
    "tags": []
   },
   "source": [
    "### Insert variables\n",
    "\n",
    "Now we have both the document and the variables. Let's insert them into the prompt template before we send it to Bedrock!"
   ]
  },
  {
   "cell_type": "code",
   "execution_count": null,
   "id": "15ea25cd-64ea-4ee9-82ed-16156b2bff73",
   "metadata": {
    "tags": []
   },
   "outputs": [],
   "source": [
    "#########################################\n",
    "#    TASK 2: Insert documents and attributes into the prompt\n",
    "#########################################\n",
    "\n",
    "prompt = prompt\n",
    "\n",
    "print(prompt)\n",
    "\n",
    "#########################################\n",
    "#    TASK 2: Insert documents and attributes into the prompt\n",
    "#########################################"
   ]
  },
  {
   "cell_type": "markdown",
   "id": "829cfc98",
   "metadata": {},
   "source": [
    "* If you have trouble after a few minutes, check out `answers/answers.ipynb`"
   ]
  },
  {
   "cell_type": "markdown",
   "id": "eb414a8d-f646-438b-bba4-43bb75d3493f",
   "metadata": {
    "tags": []
   },
   "source": [
    "### Invoke Bedrock\n",
    "\n",
    "Now we can finally send our document to Amazon Bedrock!"
   ]
  },
  {
   "cell_type": "code",
   "execution_count": 41,
   "id": "c3604736",
   "metadata": {
    "tags": []
   },
   "outputs": [],
   "source": [
    "messages = [\n",
    "    {\n",
    "        \"role\": \"user\",\n",
    "        \"content\": [{\"type\": \"text\", \"text\": prompt}],\n",
    "    }\n",
    "]"
   ]
  },
  {
   "cell_type": "code",
   "execution_count": null,
   "id": "ef30aa06",
   "metadata": {
    "tags": []
   },
   "outputs": [],
   "source": [
    "%%time\n",
    "\n",
    "modelId = \"anthropic.claude-3-haiku-20240307-v1:0\"  # (change this to try different model versions)\n",
    "\n",
    "body = json.dumps(\n",
    "    {\n",
    "        \"max_tokens\": 4_096,\n",
    "        \"system\": system_prompt,\n",
    "        \"temperature\": 0.0,\n",
    "        \"messages\": messages,\n",
    "        \"anthropic_version\": \"bedrock-2023-05-31\",\n",
    "    }\n",
    ")\n",
    "\n",
    "\n",
    "try:\n",
    "    response = bedrock_runtime.invoke_model_with_response_stream(\n",
    "        body=body,\n",
    "        modelId=modelId,\n",
    "        accept=\"application/json\",\n",
    "        contentType=\"application/json\",\n",
    "    )\n",
    "\n",
    "    output = \"\"\n",
    "\n",
    "    stream = response.get(\"body\")\n",
    "\n",
    "    if stream:\n",
    "        for event in stream:\n",
    "            chunk = event.get(\"chunk\")\n",
    "            if chunk:\n",
    "                chunk_obj = json.loads(chunk.get(\"bytes\").decode())\n",
    "                if \"delta\" in chunk_obj:\n",
    "                    delta_obj = chunk_obj.get(\"delta\", None)\n",
    "                    if delta_obj:\n",
    "                        text = delta_obj.get(\"text\", None)\n",
    "                        if text is not None:\n",
    "                            output += text\n",
    "                            print(text, end=\"\")\n",
    "                        if not text:\n",
    "                            break\n",
    "        \n",
    "        print(\"\")\n",
    "\n",
    "except botocore.exceptions.ClientError as error:\n",
    "    if error.response[\"Error\"][\"Code\"] == \"AccessDeniedException\":\n",
    "        print(\n",
    "            f\"\\x1b[41m{error.response['Error']['Message']}\\\n",
    "                \\nTo troubeshoot this issue please refer to the following resources.\\\n",
    "                \\nhttps://docs.aws.amazon.com/IAM/latest/UserGuide/troubleshoot_access-denied.html\\\n",
    "                \\nhttps://docs.aws.amazon.com/bedrock/latest/userguide/security-iam.html\\x1b[0m\\n\"\n",
    "        )\n",
    "\n",
    "    else:\n",
    "        raise error"
   ]
  },
  {
   "cell_type": "markdown",
   "id": "69d6b031-1d95-436a-9592-3369e90957b9",
   "metadata": {
    "tags": []
   },
   "source": [
    "We got the LLM output! Is it accurate? If not, try going back and tweaking the prompt. \n",
    "\n",
    "Notice that the output is still a text. We can't easily put this text into a table or a database. How can we go from the text output to the actual JSON object? This will be your final task in this document!"
   ]
  },
  {
   "cell_type": "code",
   "execution_count": 47,
   "id": "78014783-b0d5-4122-b7ca-2a6e3750decc",
   "metadata": {
    "tags": []
   },
   "outputs": [],
   "source": [
    "#########################################\n",
    "#    TASK 3: Parse the output to get JSON\n",
    "#########################################\n",
    "\n",
    "json_file = {}\n",
    "\n",
    "#########################################\n",
    "#    TASK 3: Parse the output to get JSON\n",
    "#########################################"
   ]
  },
  {
   "cell_type": "markdown",
   "id": "987cf92f",
   "metadata": {},
   "source": [
    "* If you have trouble after a few minutes, check out `answers/answers.ipynb`"
   ]
  },
  {
   "cell_type": "markdown",
   "id": "79edf3f1-8511-4dcc-b2dd-8a1030ea0b21",
   "metadata": {},
   "source": [
    "Congrats! You were able to convert an unstructured document into a JSON file!"
   ]
  },
  {
   "cell_type": "markdown",
   "id": "8e7a26eb",
   "metadata": {},
   "source": [
    "## Optional tasks\n",
    "\n",
    "Once you are done, consider experimenting with one of the tasks below:\n",
    "\n",
    "Prompt engineering:\n",
    "- Add chain-of-thought reasoning instructions to improve the extraction accuracy. This would let the LLM \"think\" by responding with a few sentences before outputting the JSON. Do the explanations make sense?\n",
    "- Recent studies show that the best Q&A performance is achieved when the prompt combines both the text and the visual version of the doc. Can you implement this?\n",
    "- Add few-shot example(s). If you are failing to come up with one - generate them! How does that affect model performance?\n",
    "- Switch to a different LLM and compare the answer quality. Which model is doing best?\n",
    "\n",
    "Database:\n",
    "- Try uploading the resulting JSON object to DynamoDB. Start by searching for `boto3` documentation for a DynamoDB client and implementing a put request. Next, head out to DynamoDB in AWS console and check if it has been populated.\n",
    "\n",
    "Orchestration:\n",
    "- Currently, document processing and information extraction are split into two notebooks. Can you merge both steps into a single helper function? "
   ]
  },
  {
   "cell_type": "markdown",
   "id": "12ec476f",
   "metadata": {},
   "source": [
    "## Next steps\n",
    "\n",
    "Scaling this pipeline to work with hundreds and thousands of documents would require setting up cloud infrastructure to orchestrate information extraction steps. See this diagram below for one of the recommended options:\n",
    "\n",
    "![screenshots/workshop_arch.png](screenshots/workshop_arch.png)"
   ]
  }
 ],
 "metadata": {
  "availableInstances": [
   {
    "_defaultOrder": 0,
    "_isFastLaunch": true,
    "category": "General purpose",
    "gpuNum": 0,
    "hideHardwareSpecs": false,
    "memoryGiB": 4,
    "name": "ml.t3.medium",
    "vcpuNum": 2
   },
   {
    "_defaultOrder": 1,
    "_isFastLaunch": false,
    "category": "General purpose",
    "gpuNum": 0,
    "hideHardwareSpecs": false,
    "memoryGiB": 8,
    "name": "ml.t3.large",
    "vcpuNum": 2
   },
   {
    "_defaultOrder": 2,
    "_isFastLaunch": false,
    "category": "General purpose",
    "gpuNum": 0,
    "hideHardwareSpecs": false,
    "memoryGiB": 16,
    "name": "ml.t3.xlarge",
    "vcpuNum": 4
   },
   {
    "_defaultOrder": 3,
    "_isFastLaunch": false,
    "category": "General purpose",
    "gpuNum": 0,
    "hideHardwareSpecs": false,
    "memoryGiB": 32,
    "name": "ml.t3.2xlarge",
    "vcpuNum": 8
   },
   {
    "_defaultOrder": 4,
    "_isFastLaunch": true,
    "category": "General purpose",
    "gpuNum": 0,
    "hideHardwareSpecs": false,
    "memoryGiB": 8,
    "name": "ml.m5.large",
    "vcpuNum": 2
   },
   {
    "_defaultOrder": 5,
    "_isFastLaunch": false,
    "category": "General purpose",
    "gpuNum": 0,
    "hideHardwareSpecs": false,
    "memoryGiB": 16,
    "name": "ml.m5.xlarge",
    "vcpuNum": 4
   },
   {
    "_defaultOrder": 6,
    "_isFastLaunch": false,
    "category": "General purpose",
    "gpuNum": 0,
    "hideHardwareSpecs": false,
    "memoryGiB": 32,
    "name": "ml.m5.2xlarge",
    "vcpuNum": 8
   },
   {
    "_defaultOrder": 7,
    "_isFastLaunch": false,
    "category": "General purpose",
    "gpuNum": 0,
    "hideHardwareSpecs": false,
    "memoryGiB": 64,
    "name": "ml.m5.4xlarge",
    "vcpuNum": 16
   },
   {
    "_defaultOrder": 8,
    "_isFastLaunch": false,
    "category": "General purpose",
    "gpuNum": 0,
    "hideHardwareSpecs": false,
    "memoryGiB": 128,
    "name": "ml.m5.8xlarge",
    "vcpuNum": 32
   },
   {
    "_defaultOrder": 9,
    "_isFastLaunch": false,
    "category": "General purpose",
    "gpuNum": 0,
    "hideHardwareSpecs": false,
    "memoryGiB": 192,
    "name": "ml.m5.12xlarge",
    "vcpuNum": 48
   },
   {
    "_defaultOrder": 10,
    "_isFastLaunch": false,
    "category": "General purpose",
    "gpuNum": 0,
    "hideHardwareSpecs": false,
    "memoryGiB": 256,
    "name": "ml.m5.16xlarge",
    "vcpuNum": 64
   },
   {
    "_defaultOrder": 11,
    "_isFastLaunch": false,
    "category": "General purpose",
    "gpuNum": 0,
    "hideHardwareSpecs": false,
    "memoryGiB": 384,
    "name": "ml.m5.24xlarge",
    "vcpuNum": 96
   },
   {
    "_defaultOrder": 12,
    "_isFastLaunch": false,
    "category": "General purpose",
    "gpuNum": 0,
    "hideHardwareSpecs": false,
    "memoryGiB": 8,
    "name": "ml.m5d.large",
    "vcpuNum": 2
   },
   {
    "_defaultOrder": 13,
    "_isFastLaunch": false,
    "category": "General purpose",
    "gpuNum": 0,
    "hideHardwareSpecs": false,
    "memoryGiB": 16,
    "name": "ml.m5d.xlarge",
    "vcpuNum": 4
   },
   {
    "_defaultOrder": 14,
    "_isFastLaunch": false,
    "category": "General purpose",
    "gpuNum": 0,
    "hideHardwareSpecs": false,
    "memoryGiB": 32,
    "name": "ml.m5d.2xlarge",
    "vcpuNum": 8
   },
   {
    "_defaultOrder": 15,
    "_isFastLaunch": false,
    "category": "General purpose",
    "gpuNum": 0,
    "hideHardwareSpecs": false,
    "memoryGiB": 64,
    "name": "ml.m5d.4xlarge",
    "vcpuNum": 16
   },
   {
    "_defaultOrder": 16,
    "_isFastLaunch": false,
    "category": "General purpose",
    "gpuNum": 0,
    "hideHardwareSpecs": false,
    "memoryGiB": 128,
    "name": "ml.m5d.8xlarge",
    "vcpuNum": 32
   },
   {
    "_defaultOrder": 17,
    "_isFastLaunch": false,
    "category": "General purpose",
    "gpuNum": 0,
    "hideHardwareSpecs": false,
    "memoryGiB": 192,
    "name": "ml.m5d.12xlarge",
    "vcpuNum": 48
   },
   {
    "_defaultOrder": 18,
    "_isFastLaunch": false,
    "category": "General purpose",
    "gpuNum": 0,
    "hideHardwareSpecs": false,
    "memoryGiB": 256,
    "name": "ml.m5d.16xlarge",
    "vcpuNum": 64
   },
   {
    "_defaultOrder": 19,
    "_isFastLaunch": false,
    "category": "General purpose",
    "gpuNum": 0,
    "hideHardwareSpecs": false,
    "memoryGiB": 384,
    "name": "ml.m5d.24xlarge",
    "vcpuNum": 96
   },
   {
    "_defaultOrder": 20,
    "_isFastLaunch": false,
    "category": "General purpose",
    "gpuNum": 0,
    "hideHardwareSpecs": true,
    "memoryGiB": 0,
    "name": "ml.geospatial.interactive",
    "supportedImageNames": [
     "sagemaker-geospatial-v1-0"
    ],
    "vcpuNum": 0
   },
   {
    "_defaultOrder": 21,
    "_isFastLaunch": true,
    "category": "Compute optimized",
    "gpuNum": 0,
    "hideHardwareSpecs": false,
    "memoryGiB": 4,
    "name": "ml.c5.large",
    "vcpuNum": 2
   },
   {
    "_defaultOrder": 22,
    "_isFastLaunch": false,
    "category": "Compute optimized",
    "gpuNum": 0,
    "hideHardwareSpecs": false,
    "memoryGiB": 8,
    "name": "ml.c5.xlarge",
    "vcpuNum": 4
   },
   {
    "_defaultOrder": 23,
    "_isFastLaunch": false,
    "category": "Compute optimized",
    "gpuNum": 0,
    "hideHardwareSpecs": false,
    "memoryGiB": 16,
    "name": "ml.c5.2xlarge",
    "vcpuNum": 8
   },
   {
    "_defaultOrder": 24,
    "_isFastLaunch": false,
    "category": "Compute optimized",
    "gpuNum": 0,
    "hideHardwareSpecs": false,
    "memoryGiB": 32,
    "name": "ml.c5.4xlarge",
    "vcpuNum": 16
   },
   {
    "_defaultOrder": 25,
    "_isFastLaunch": false,
    "category": "Compute optimized",
    "gpuNum": 0,
    "hideHardwareSpecs": false,
    "memoryGiB": 72,
    "name": "ml.c5.9xlarge",
    "vcpuNum": 36
   },
   {
    "_defaultOrder": 26,
    "_isFastLaunch": false,
    "category": "Compute optimized",
    "gpuNum": 0,
    "hideHardwareSpecs": false,
    "memoryGiB": 96,
    "name": "ml.c5.12xlarge",
    "vcpuNum": 48
   },
   {
    "_defaultOrder": 27,
    "_isFastLaunch": false,
    "category": "Compute optimized",
    "gpuNum": 0,
    "hideHardwareSpecs": false,
    "memoryGiB": 144,
    "name": "ml.c5.18xlarge",
    "vcpuNum": 72
   },
   {
    "_defaultOrder": 28,
    "_isFastLaunch": false,
    "category": "Compute optimized",
    "gpuNum": 0,
    "hideHardwareSpecs": false,
    "memoryGiB": 192,
    "name": "ml.c5.24xlarge",
    "vcpuNum": 96
   },
   {
    "_defaultOrder": 29,
    "_isFastLaunch": true,
    "category": "Accelerated computing",
    "gpuNum": 1,
    "hideHardwareSpecs": false,
    "memoryGiB": 16,
    "name": "ml.g4dn.xlarge",
    "vcpuNum": 4
   },
   {
    "_defaultOrder": 30,
    "_isFastLaunch": false,
    "category": "Accelerated computing",
    "gpuNum": 1,
    "hideHardwareSpecs": false,
    "memoryGiB": 32,
    "name": "ml.g4dn.2xlarge",
    "vcpuNum": 8
   },
   {
    "_defaultOrder": 31,
    "_isFastLaunch": false,
    "category": "Accelerated computing",
    "gpuNum": 1,
    "hideHardwareSpecs": false,
    "memoryGiB": 64,
    "name": "ml.g4dn.4xlarge",
    "vcpuNum": 16
   },
   {
    "_defaultOrder": 32,
    "_isFastLaunch": false,
    "category": "Accelerated computing",
    "gpuNum": 1,
    "hideHardwareSpecs": false,
    "memoryGiB": 128,
    "name": "ml.g4dn.8xlarge",
    "vcpuNum": 32
   },
   {
    "_defaultOrder": 33,
    "_isFastLaunch": false,
    "category": "Accelerated computing",
    "gpuNum": 4,
    "hideHardwareSpecs": false,
    "memoryGiB": 192,
    "name": "ml.g4dn.12xlarge",
    "vcpuNum": 48
   },
   {
    "_defaultOrder": 34,
    "_isFastLaunch": false,
    "category": "Accelerated computing",
    "gpuNum": 1,
    "hideHardwareSpecs": false,
    "memoryGiB": 256,
    "name": "ml.g4dn.16xlarge",
    "vcpuNum": 64
   },
   {
    "_defaultOrder": 35,
    "_isFastLaunch": false,
    "category": "Accelerated computing",
    "gpuNum": 1,
    "hideHardwareSpecs": false,
    "memoryGiB": 61,
    "name": "ml.p3.2xlarge",
    "vcpuNum": 8
   },
   {
    "_defaultOrder": 36,
    "_isFastLaunch": false,
    "category": "Accelerated computing",
    "gpuNum": 4,
    "hideHardwareSpecs": false,
    "memoryGiB": 244,
    "name": "ml.p3.8xlarge",
    "vcpuNum": 32
   },
   {
    "_defaultOrder": 37,
    "_isFastLaunch": false,
    "category": "Accelerated computing",
    "gpuNum": 8,
    "hideHardwareSpecs": false,
    "memoryGiB": 488,
    "name": "ml.p3.16xlarge",
    "vcpuNum": 64
   },
   {
    "_defaultOrder": 38,
    "_isFastLaunch": false,
    "category": "Accelerated computing",
    "gpuNum": 8,
    "hideHardwareSpecs": false,
    "memoryGiB": 768,
    "name": "ml.p3dn.24xlarge",
    "vcpuNum": 96
   },
   {
    "_defaultOrder": 39,
    "_isFastLaunch": false,
    "category": "Memory Optimized",
    "gpuNum": 0,
    "hideHardwareSpecs": false,
    "memoryGiB": 16,
    "name": "ml.r5.large",
    "vcpuNum": 2
   },
   {
    "_defaultOrder": 40,
    "_isFastLaunch": false,
    "category": "Memory Optimized",
    "gpuNum": 0,
    "hideHardwareSpecs": false,
    "memoryGiB": 32,
    "name": "ml.r5.xlarge",
    "vcpuNum": 4
   },
   {
    "_defaultOrder": 41,
    "_isFastLaunch": false,
    "category": "Memory Optimized",
    "gpuNum": 0,
    "hideHardwareSpecs": false,
    "memoryGiB": 64,
    "name": "ml.r5.2xlarge",
    "vcpuNum": 8
   },
   {
    "_defaultOrder": 42,
    "_isFastLaunch": false,
    "category": "Memory Optimized",
    "gpuNum": 0,
    "hideHardwareSpecs": false,
    "memoryGiB": 128,
    "name": "ml.r5.4xlarge",
    "vcpuNum": 16
   },
   {
    "_defaultOrder": 43,
    "_isFastLaunch": false,
    "category": "Memory Optimized",
    "gpuNum": 0,
    "hideHardwareSpecs": false,
    "memoryGiB": 256,
    "name": "ml.r5.8xlarge",
    "vcpuNum": 32
   },
   {
    "_defaultOrder": 44,
    "_isFastLaunch": false,
    "category": "Memory Optimized",
    "gpuNum": 0,
    "hideHardwareSpecs": false,
    "memoryGiB": 384,
    "name": "ml.r5.12xlarge",
    "vcpuNum": 48
   },
   {
    "_defaultOrder": 45,
    "_isFastLaunch": false,
    "category": "Memory Optimized",
    "gpuNum": 0,
    "hideHardwareSpecs": false,
    "memoryGiB": 512,
    "name": "ml.r5.16xlarge",
    "vcpuNum": 64
   },
   {
    "_defaultOrder": 46,
    "_isFastLaunch": false,
    "category": "Memory Optimized",
    "gpuNum": 0,
    "hideHardwareSpecs": false,
    "memoryGiB": 768,
    "name": "ml.r5.24xlarge",
    "vcpuNum": 96
   },
   {
    "_defaultOrder": 47,
    "_isFastLaunch": false,
    "category": "Accelerated computing",
    "gpuNum": 1,
    "hideHardwareSpecs": false,
    "memoryGiB": 16,
    "name": "ml.g5.xlarge",
    "vcpuNum": 4
   },
   {
    "_defaultOrder": 48,
    "_isFastLaunch": false,
    "category": "Accelerated computing",
    "gpuNum": 1,
    "hideHardwareSpecs": false,
    "memoryGiB": 32,
    "name": "ml.g5.2xlarge",
    "vcpuNum": 8
   },
   {
    "_defaultOrder": 49,
    "_isFastLaunch": false,
    "category": "Accelerated computing",
    "gpuNum": 1,
    "hideHardwareSpecs": false,
    "memoryGiB": 64,
    "name": "ml.g5.4xlarge",
    "vcpuNum": 16
   },
   {
    "_defaultOrder": 50,
    "_isFastLaunch": false,
    "category": "Accelerated computing",
    "gpuNum": 1,
    "hideHardwareSpecs": false,
    "memoryGiB": 128,
    "name": "ml.g5.8xlarge",
    "vcpuNum": 32
   },
   {
    "_defaultOrder": 51,
    "_isFastLaunch": false,
    "category": "Accelerated computing",
    "gpuNum": 1,
    "hideHardwareSpecs": false,
    "memoryGiB": 256,
    "name": "ml.g5.16xlarge",
    "vcpuNum": 64
   },
   {
    "_defaultOrder": 52,
    "_isFastLaunch": false,
    "category": "Accelerated computing",
    "gpuNum": 4,
    "hideHardwareSpecs": false,
    "memoryGiB": 192,
    "name": "ml.g5.12xlarge",
    "vcpuNum": 48
   },
   {
    "_defaultOrder": 53,
    "_isFastLaunch": false,
    "category": "Accelerated computing",
    "gpuNum": 4,
    "hideHardwareSpecs": false,
    "memoryGiB": 384,
    "name": "ml.g5.24xlarge",
    "vcpuNum": 96
   },
   {
    "_defaultOrder": 54,
    "_isFastLaunch": false,
    "category": "Accelerated computing",
    "gpuNum": 8,
    "hideHardwareSpecs": false,
    "memoryGiB": 768,
    "name": "ml.g5.48xlarge",
    "vcpuNum": 192
   },
   {
    "_defaultOrder": 55,
    "_isFastLaunch": false,
    "category": "Accelerated computing",
    "gpuNum": 8,
    "hideHardwareSpecs": false,
    "memoryGiB": 1152,
    "name": "ml.p4d.24xlarge",
    "vcpuNum": 96
   },
   {
    "_defaultOrder": 56,
    "_isFastLaunch": false,
    "category": "Accelerated computing",
    "gpuNum": 8,
    "hideHardwareSpecs": false,
    "memoryGiB": 1152,
    "name": "ml.p4de.24xlarge",
    "vcpuNum": 96
   },
   {
    "_defaultOrder": 57,
    "_isFastLaunch": false,
    "category": "Accelerated computing",
    "gpuNum": 0,
    "hideHardwareSpecs": false,
    "memoryGiB": 32,
    "name": "ml.trn1.2xlarge",
    "vcpuNum": 8
   },
   {
    "_defaultOrder": 58,
    "_isFastLaunch": false,
    "category": "Accelerated computing",
    "gpuNum": 0,
    "hideHardwareSpecs": false,
    "memoryGiB": 512,
    "name": "ml.trn1.32xlarge",
    "vcpuNum": 128
   },
   {
    "_defaultOrder": 59,
    "_isFastLaunch": false,
    "category": "Accelerated computing",
    "gpuNum": 0,
    "hideHardwareSpecs": false,
    "memoryGiB": 512,
    "name": "ml.trn1n.32xlarge",
    "vcpuNum": 128
   }
  ],
  "instance_type": "ml.t3.medium",
  "kernelspec": {
   "display_name": "conda_python3",
   "language": "python",
   "name": "conda_python3"
  },
  "language_info": {
   "codemirror_mode": {
    "name": "ipython",
    "version": 3
   },
   "file_extension": ".py",
   "mimetype": "text/x-python",
   "name": "python",
   "nbconvert_exporter": "python",
   "pygments_lexer": "ipython3",
   "version": "3.10.14"
  }
 },
 "nbformat": 4,
 "nbformat_minor": 5
}

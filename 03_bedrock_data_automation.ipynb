{
 "cells": [
  {
   "cell_type": "markdown",
   "id": "5814cb32",
   "metadata": {},
   "source": [
    "# Extract Information using Amazon Bedrock Data Automation\n",
    "\n",
    "> This notebook should work well with the **`conda_python3`** kernel in SageMaker Notebook instances.\n",
    "\n",
    "---\n",
    "\n",
    "In this notebook, we demonstrate an alternative IDP approach: using Bedrock Data Automation as a managed service.\n",
    "\n",
    "---\n",
    "\n",
    "Bedrock Data Automation (BDA) lets you configure output based on your processing needs for a specific data type: documents, images, video or audio. BDA can generate standard output or custom output. Below are some key concepts for understanding how BDA works:\n",
    "\n",
    "* **Standard output** – Sending a file to BDA with no other information returns the default standard output, which consists of commonly required information that's based on the data type. Examples include audio transcriptions, scene summaries for video, and document summaries. For more information, see [Standard output for documents in Bedrock Data Automation](https://docs.aws.amazon.com/bedrock/latest/userguide/bda-output-documents.html).\n",
    "\n",
    "* **Custom output** – For documents and images only. Choose custom output to define exactly what information you want to extract using a blueprint. A blueprint consists of a list of expected fields that you want retrieved from a document or an image. Each field represents a piece of information that needs to be extracted to meet your specific use case. For more information, see [Custom output and blueprints](https://docs.aws.amazon.com/bedrock/latest/userguide/bda-custom-output-idp.html).\n",
    "\n",
    "For our use case, we will set up a custom blueprint with the attributes schema, and then run a data automation job. Not that here, OCR and information extraction are performed in one go."
   ]
  },
  {
   "cell_type": "markdown",
   "id": "d2736c3c",
   "metadata": {},
   "source": [
    "# 1. PREPARATIONS"
   ]
  },
  {
   "cell_type": "code",
   "execution_count": 2,
   "id": "477a8a59",
   "metadata": {
    "tags": []
   },
   "outputs": [],
   "source": [
    "import json\n",
    "import os\n",
    "\n",
    "import boto3\n",
    "import botocore"
   ]
  },
  {
   "cell_type": "markdown",
   "id": "9720e142",
   "metadata": {},
   "source": [
    "We will need to set up two `boto3` clients:"
   ]
  },
  {
   "cell_type": "code",
   "execution_count": null,
   "id": "17101b51",
   "metadata": {
    "tags": []
   },
   "outputs": [],
   "source": [
    "bda_client = boto3.client(\"bedrock-data-automation\", region_name=\"us-west-2\")\n",
    "bda_runtime_client = boto3.client(\n",
    "    \"bedrock-data-automation-runtime\", region_name=\"us-west-2\"\n",
    ")"
   ]
  },
  {
   "cell_type": "markdown",
   "id": "c0709cb6",
   "metadata": {},
   "source": [
    "## Define folders"
   ]
  },
  {
   "cell_type": "markdown",
   "id": "e1954c59",
   "metadata": {},
   "source": [
    "We will select the same PDF document we used in `01_process_pdf.ipynb`. Check out the notebook for the code to upload your document(s) to S3.\n",
    "\n",
    "Since Amazon Bedrock expects input files to be uploaded to S3, we will read them from a prepopulated S3 bucket. The name of the bucket is `s3://information-extraction-workshop-<ACCOUNT_ID>`. Note here that you need to replace the `<ACCOUNT_ID>` suffix with the aws account ID you're using. Or simply visit the [s3 console](https://console.aws.amazon.com/s3/home) and copy the s3 bucket name.  \n",
    "\n",
    "You can check copies of the input files in `demo-files` folder for reference."
   ]
  },
  {
   "cell_type": "code",
   "execution_count": 15,
   "id": "7ea327c6",
   "metadata": {},
   "outputs": [],
   "source": [
    "input_path = \"demo-files\"\n",
    "output_path = \"processed-files\"\n",
    "s3_bucket = \"information-extraction-workshop-<ACCOUNT_ID>\"  # replace the suffix <ACCOUNT_ID> with the aws account ID"
   ]
  },
  {
   "cell_type": "markdown",
   "id": "51ed6361",
   "metadata": {},
   "source": [
    "## List input documents\n",
    "\n",
    "List objects on the S3 bucket, iterate over the objects and print their keys (file names)."
   ]
  },
  {
   "cell_type": "code",
   "execution_count": null,
   "id": "d9de71c2",
   "metadata": {},
   "outputs": [],
   "source": [
    "s3_client = boto3.client(\"s3\")\n",
    "response = s3_client.list_objects_v2(Bucket=s3_bucket)\n",
    "file_objects = response[\"Contents\"]\n",
    "\n",
    "for obj in file_objects:\n",
    "    print(obj[\"Key\"])\n",
    "\n",
    "s3_file_key = file_objects[0][\"Key\"]\n",
    "s3_file_key"
   ]
  },
  {
   "cell_type": "markdown",
   "id": "456a18b5",
   "metadata": {},
   "source": [
    "![screenshots/2302.13971v1.png](screenshots/2302.13971v1.png)"
   ]
  },
  {
   "cell_type": "markdown",
   "id": "7c8fedf9",
   "metadata": {},
   "source": [
    "---\n",
    "\n",
    "# 2. PROCESSING"
   ]
  },
  {
   "cell_type": "markdown",
   "id": "1fe2d5ce",
   "metadata": {},
   "source": [
    "### Define Blueprint properties\n",
    "To create a blueprint you start with defining a blueprint name, description, the blueprint type (`DOCUMENT` or `IMAGE`), the blueprint stage (`LIVE` or `DEVELOPMENT`) along with blueprint schema in JSON schema format.\n",
    "\n",
    "You can create a blueprint using an API providing a name, type, stage and a schema in JSON format.\n",
    "\n",
    "Feel free to modify and extend the properties - attributes to be extracted from the document! Note that you need to specify `type`, `inferenceType`, and `description` for each field. See [BDA documentation](https://docs.aws.amazon.com/bedrock/latest/userguide/idp-cases-extraction.html) for the possible values."
   ]
  },
  {
   "cell_type": "code",
   "execution_count": 21,
   "id": "959b96aa",
   "metadata": {},
   "outputs": [],
   "source": [
    "blueprint_name = \"test-brand-new-blueprint\"\n",
    "blueprint_description = \"blueprint-description\"\n",
    "blueprint_type = \"DOCUMENT\"\n",
    "blueprint_stage = \"LIVE\"\n",
    "\n",
    "blueprint_schema = {\n",
    "    \"$schema\": \"http://json-schema.org/draft-07/schema#\",\n",
    "    \"documentClass\": \"custom-document-type\",\n",
    "    \"description\": blueprint_description,\n",
    "    \"definitions\": {},\n",
    "    \"properties\": {\n",
    "        \"summary\": {\n",
    "            \"type\": \"string\",\n",
    "            \"inferenceType\": \"generative\",\n",
    "            \"description\": \"document summary\",\n",
    "        },\n",
    "        \"title\": {\n",
    "            \"type\": \"string\",\n",
    "            \"inferenceType\": \"generative\",\n",
    "            \"description\": \"title of the document\",\n",
    "        },\n",
    "        \"language\": {\n",
    "            \"type\": \"string\",\n",
    "            \"inferenceType\": \"generative\",\n",
    "            \"description\": \"language of the document\",\n",
    "        },\n",
    "    },\n",
    "}"
   ]
  },
  {
   "cell_type": "markdown",
   "id": "651ba114",
   "metadata": {},
   "source": [
    "We will use the `create_blueprint` operation (or `update_blueprint` to update an existing blueprint) in the  `boto3` API to create/update the blueprint. You could also create/update blueprints using the AWS console. Each blueprint that you create is an AWS resource with its own blueprint ID and ARN. "
   ]
  },
  {
   "cell_type": "code",
   "execution_count": null,
   "id": "56804b89",
   "metadata": {},
   "outputs": [],
   "source": [
    "list_blueprints_response = bda_client.list_blueprints(blueprintStageFilter=\"ALL\")\n",
    "\n",
    "blueprint = next(\n",
    "    (\n",
    "        blueprint\n",
    "        for blueprint in list_blueprints_response[\"blueprints\"]\n",
    "        if \"blueprintName\" in blueprint and blueprint[\"blueprintName\"] == blueprint_name\n",
    "    ),\n",
    "    None,\n",
    ")\n",
    "\n",
    "if not blueprint:\n",
    "    response = bda_client.create_blueprint(\n",
    "        blueprintName=blueprint_name,\n",
    "        type=blueprint_type,\n",
    "        blueprintStage=blueprint_stage,\n",
    "        schema=json.dumps(blueprint_schema),\n",
    "    )\n",
    "    print(\n",
    "        f\"Creating new blueprint with name={blueprint_name}, updating Stage and Schema\"\n",
    "    )\n",
    "else:\n",
    "    response = bda_client.update_blueprint(\n",
    "        blueprintArn=blueprint[\"blueprintArn\"],\n",
    "        blueprintStage=blueprint_stage,\n",
    "        schema=json.dumps(blueprint_schema),\n",
    "    )\n",
    "    print(\n",
    "        f\"Found existing blueprint with name={blueprint_name}, updating Stage and Schema\"\n",
    "    )\n",
    "\n",
    "blueprint_arn = response[\"blueprint\"][\"blueprintArn\"]"
   ]
  },
  {
   "cell_type": "markdown",
   "id": "eb414a8d-f646-438b-bba4-43bb75d3493f",
   "metadata": {
    "tags": []
   },
   "source": [
    "### Invoke data automation job\n",
    "\n",
    "Now that our blueprint has been setup, we can proceed to invoke data automation. Note that in addition to the input and output configuration we also provide the blueprint id when calling the `invoke_data_automation_async` operation."
   ]
  },
  {
   "cell_type": "code",
   "execution_count": null,
   "id": "c3604736",
   "metadata": {
    "tags": []
   },
   "outputs": [],
   "source": [
    "response = bda_runtime_client.invoke_data_automation_async(\n",
    "    inputConfiguration={\"s3Uri\": f\"s3://{s3_bucket}/{s3_file_key}\"},\n",
    "    outputConfiguration={\"s3Uri\": f\"s3://{s3_bucket}/bda-outputs\"},\n",
    "    blueprints=[{\"blueprintArn\": blueprint_arn}],\n",
    ")\n",
    "\n",
    "invocationArn = response[\"invocationArn\"]\n",
    "print(f\"Invoked data automation job with invocation arn {invocationArn}\")"
   ]
  },
  {
   "cell_type": "markdown",
   "id": "fbe8225a",
   "metadata": {},
   "source": [
    "### Get Data Automation Status\n",
    "\n",
    "We can check the status and monitor the progress of the Invocation job using the `GetDataAutomationStatus`. This API takes the invocation arn we retrieved from the response to the `InvokeDataAutomationAsync` operation above.\n",
    "\n",
    "The invocation job status moves from `Created` to `InProgress` and finally to `Success` when the job completes successfully, along with the S3 location of the results. If the job encounters and error the final status is either `ServiceError` or `ClientError` with error details."
   ]
  },
  {
   "cell_type": "code",
   "execution_count": null,
   "id": "2d5a3e2f",
   "metadata": {},
   "outputs": [],
   "source": [
    "status_response = bda_runtime_client.get_data_automation_status(\n",
    "    invocationArn=invocationArn\n",
    ")\n",
    "print(status_response)\n",
    "\n",
    "job_metadata_s3_location = status_response[\"outputConfiguration\"][\"s3Uri\"]"
   ]
  },
  {
   "cell_type": "markdown",
   "id": "bf69c46e",
   "metadata": {},
   "source": [
    "---\n",
    "\n",
    "# 3. CHECK OUTPUTS"
   ]
  },
  {
   "cell_type": "markdown",
   "id": "cba5edee",
   "metadata": {},
   "source": [
    "To explore the extracted attributes, we need to first identify the location of the corresponding JSON file with the custom outputs on S3. This is provided as `\"custom_output_path\"` key in the reponse dictionary below:"
   ]
  },
  {
   "cell_type": "code",
   "execution_count": null,
   "id": "ccd26653",
   "metadata": {},
   "outputs": [],
   "source": [
    "s3_uri_parts = job_metadata_s3_location.removeprefix(\"s3://\").split(\"/\", 1)\n",
    "response = s3_client.get_object(Bucket=s3_uri_parts[0], Key=s3_uri_parts[1])\n",
    "\n",
    "job_metadata = json.loads(response[\"Body\"].read().decode(\"utf-8\"))\n",
    "print(job_metadata)\n",
    "\n",
    "custom_output_path = job_metadata[\"output_metadata\"][0][\"segment_metadata\"][0][\n",
    "    \"custom_output_path\"\n",
    "]"
   ]
  },
  {
   "cell_type": "markdown",
   "id": "80d28a77",
   "metadata": {},
   "source": [
    "The structure of the custom output would be the same as that of the output produced when using a catalog blueprint. However, the `inference_result` now contain data that map to the blueprint schema we provided to BDA with the `InvokeDataAutomationAsync` operation."
   ]
  },
  {
   "cell_type": "code",
   "execution_count": null,
   "id": "e7a987ec",
   "metadata": {},
   "outputs": [],
   "source": [
    "s3_uri_parts = custom_output_path.removeprefix(\"s3://\").split(\"/\", 1)\n",
    "response = s3_client.get_object(Bucket=s3_uri_parts[0], Key=s3_uri_parts[1])\n",
    "\n",
    "custom_outputs = json.loads(response[\"Body\"].read().decode(\"utf-8\"))\n",
    "print(custom_outputs[\"inference_result\"])"
   ]
  },
  {
   "cell_type": "markdown",
   "id": "79edf3f1-8511-4dcc-b2dd-8a1030ea0b21",
   "metadata": {},
   "source": [
    "Congrats! You were able to run the IDP pipeline using a managed BDA service. How does the result compare to the custom extracted outputs from the previous notebooks?"
   ]
  }
 ],
 "metadata": {
  "availableInstances": [
   {
    "_defaultOrder": 0,
    "_isFastLaunch": true,
    "category": "General purpose",
    "gpuNum": 0,
    "hideHardwareSpecs": false,
    "memoryGiB": 4,
    "name": "ml.t3.medium",
    "vcpuNum": 2
   },
   {
    "_defaultOrder": 1,
    "_isFastLaunch": false,
    "category": "General purpose",
    "gpuNum": 0,
    "hideHardwareSpecs": false,
    "memoryGiB": 8,
    "name": "ml.t3.large",
    "vcpuNum": 2
   },
   {
    "_defaultOrder": 2,
    "_isFastLaunch": false,
    "category": "General purpose",
    "gpuNum": 0,
    "hideHardwareSpecs": false,
    "memoryGiB": 16,
    "name": "ml.t3.xlarge",
    "vcpuNum": 4
   },
   {
    "_defaultOrder": 3,
    "_isFastLaunch": false,
    "category": "General purpose",
    "gpuNum": 0,
    "hideHardwareSpecs": false,
    "memoryGiB": 32,
    "name": "ml.t3.2xlarge",
    "vcpuNum": 8
   },
   {
    "_defaultOrder": 4,
    "_isFastLaunch": true,
    "category": "General purpose",
    "gpuNum": 0,
    "hideHardwareSpecs": false,
    "memoryGiB": 8,
    "name": "ml.m5.large",
    "vcpuNum": 2
   },
   {
    "_defaultOrder": 5,
    "_isFastLaunch": false,
    "category": "General purpose",
    "gpuNum": 0,
    "hideHardwareSpecs": false,
    "memoryGiB": 16,
    "name": "ml.m5.xlarge",
    "vcpuNum": 4
   },
   {
    "_defaultOrder": 6,
    "_isFastLaunch": false,
    "category": "General purpose",
    "gpuNum": 0,
    "hideHardwareSpecs": false,
    "memoryGiB": 32,
    "name": "ml.m5.2xlarge",
    "vcpuNum": 8
   },
   {
    "_defaultOrder": 7,
    "_isFastLaunch": false,
    "category": "General purpose",
    "gpuNum": 0,
    "hideHardwareSpecs": false,
    "memoryGiB": 64,
    "name": "ml.m5.4xlarge",
    "vcpuNum": 16
   },
   {
    "_defaultOrder": 8,
    "_isFastLaunch": false,
    "category": "General purpose",
    "gpuNum": 0,
    "hideHardwareSpecs": false,
    "memoryGiB": 128,
    "name": "ml.m5.8xlarge",
    "vcpuNum": 32
   },
   {
    "_defaultOrder": 9,
    "_isFastLaunch": false,
    "category": "General purpose",
    "gpuNum": 0,
    "hideHardwareSpecs": false,
    "memoryGiB": 192,
    "name": "ml.m5.12xlarge",
    "vcpuNum": 48
   },
   {
    "_defaultOrder": 10,
    "_isFastLaunch": false,
    "category": "General purpose",
    "gpuNum": 0,
    "hideHardwareSpecs": false,
    "memoryGiB": 256,
    "name": "ml.m5.16xlarge",
    "vcpuNum": 64
   },
   {
    "_defaultOrder": 11,
    "_isFastLaunch": false,
    "category": "General purpose",
    "gpuNum": 0,
    "hideHardwareSpecs": false,
    "memoryGiB": 384,
    "name": "ml.m5.24xlarge",
    "vcpuNum": 96
   },
   {
    "_defaultOrder": 12,
    "_isFastLaunch": false,
    "category": "General purpose",
    "gpuNum": 0,
    "hideHardwareSpecs": false,
    "memoryGiB": 8,
    "name": "ml.m5d.large",
    "vcpuNum": 2
   },
   {
    "_defaultOrder": 13,
    "_isFastLaunch": false,
    "category": "General purpose",
    "gpuNum": 0,
    "hideHardwareSpecs": false,
    "memoryGiB": 16,
    "name": "ml.m5d.xlarge",
    "vcpuNum": 4
   },
   {
    "_defaultOrder": 14,
    "_isFastLaunch": false,
    "category": "General purpose",
    "gpuNum": 0,
    "hideHardwareSpecs": false,
    "memoryGiB": 32,
    "name": "ml.m5d.2xlarge",
    "vcpuNum": 8
   },
   {
    "_defaultOrder": 15,
    "_isFastLaunch": false,
    "category": "General purpose",
    "gpuNum": 0,
    "hideHardwareSpecs": false,
    "memoryGiB": 64,
    "name": "ml.m5d.4xlarge",
    "vcpuNum": 16
   },
   {
    "_defaultOrder": 16,
    "_isFastLaunch": false,
    "category": "General purpose",
    "gpuNum": 0,
    "hideHardwareSpecs": false,
    "memoryGiB": 128,
    "name": "ml.m5d.8xlarge",
    "vcpuNum": 32
   },
   {
    "_defaultOrder": 17,
    "_isFastLaunch": false,
    "category": "General purpose",
    "gpuNum": 0,
    "hideHardwareSpecs": false,
    "memoryGiB": 192,
    "name": "ml.m5d.12xlarge",
    "vcpuNum": 48
   },
   {
    "_defaultOrder": 18,
    "_isFastLaunch": false,
    "category": "General purpose",
    "gpuNum": 0,
    "hideHardwareSpecs": false,
    "memoryGiB": 256,
    "name": "ml.m5d.16xlarge",
    "vcpuNum": 64
   },
   {
    "_defaultOrder": 19,
    "_isFastLaunch": false,
    "category": "General purpose",
    "gpuNum": 0,
    "hideHardwareSpecs": false,
    "memoryGiB": 384,
    "name": "ml.m5d.24xlarge",
    "vcpuNum": 96
   },
   {
    "_defaultOrder": 20,
    "_isFastLaunch": false,
    "category": "General purpose",
    "gpuNum": 0,
    "hideHardwareSpecs": true,
    "memoryGiB": 0,
    "name": "ml.geospatial.interactive",
    "supportedImageNames": [
     "sagemaker-geospatial-v1-0"
    ],
    "vcpuNum": 0
   },
   {
    "_defaultOrder": 21,
    "_isFastLaunch": true,
    "category": "Compute optimized",
    "gpuNum": 0,
    "hideHardwareSpecs": false,
    "memoryGiB": 4,
    "name": "ml.c5.large",
    "vcpuNum": 2
   },
   {
    "_defaultOrder": 22,
    "_isFastLaunch": false,
    "category": "Compute optimized",
    "gpuNum": 0,
    "hideHardwareSpecs": false,
    "memoryGiB": 8,
    "name": "ml.c5.xlarge",
    "vcpuNum": 4
   },
   {
    "_defaultOrder": 23,
    "_isFastLaunch": false,
    "category": "Compute optimized",
    "gpuNum": 0,
    "hideHardwareSpecs": false,
    "memoryGiB": 16,
    "name": "ml.c5.2xlarge",
    "vcpuNum": 8
   },
   {
    "_defaultOrder": 24,
    "_isFastLaunch": false,
    "category": "Compute optimized",
    "gpuNum": 0,
    "hideHardwareSpecs": false,
    "memoryGiB": 32,
    "name": "ml.c5.4xlarge",
    "vcpuNum": 16
   },
   {
    "_defaultOrder": 25,
    "_isFastLaunch": false,
    "category": "Compute optimized",
    "gpuNum": 0,
    "hideHardwareSpecs": false,
    "memoryGiB": 72,
    "name": "ml.c5.9xlarge",
    "vcpuNum": 36
   },
   {
    "_defaultOrder": 26,
    "_isFastLaunch": false,
    "category": "Compute optimized",
    "gpuNum": 0,
    "hideHardwareSpecs": false,
    "memoryGiB": 96,
    "name": "ml.c5.12xlarge",
    "vcpuNum": 48
   },
   {
    "_defaultOrder": 27,
    "_isFastLaunch": false,
    "category": "Compute optimized",
    "gpuNum": 0,
    "hideHardwareSpecs": false,
    "memoryGiB": 144,
    "name": "ml.c5.18xlarge",
    "vcpuNum": 72
   },
   {
    "_defaultOrder": 28,
    "_isFastLaunch": false,
    "category": "Compute optimized",
    "gpuNum": 0,
    "hideHardwareSpecs": false,
    "memoryGiB": 192,
    "name": "ml.c5.24xlarge",
    "vcpuNum": 96
   },
   {
    "_defaultOrder": 29,
    "_isFastLaunch": true,
    "category": "Accelerated computing",
    "gpuNum": 1,
    "hideHardwareSpecs": false,
    "memoryGiB": 16,
    "name": "ml.g4dn.xlarge",
    "vcpuNum": 4
   },
   {
    "_defaultOrder": 30,
    "_isFastLaunch": false,
    "category": "Accelerated computing",
    "gpuNum": 1,
    "hideHardwareSpecs": false,
    "memoryGiB": 32,
    "name": "ml.g4dn.2xlarge",
    "vcpuNum": 8
   },
   {
    "_defaultOrder": 31,
    "_isFastLaunch": false,
    "category": "Accelerated computing",
    "gpuNum": 1,
    "hideHardwareSpecs": false,
    "memoryGiB": 64,
    "name": "ml.g4dn.4xlarge",
    "vcpuNum": 16
   },
   {
    "_defaultOrder": 32,
    "_isFastLaunch": false,
    "category": "Accelerated computing",
    "gpuNum": 1,
    "hideHardwareSpecs": false,
    "memoryGiB": 128,
    "name": "ml.g4dn.8xlarge",
    "vcpuNum": 32
   },
   {
    "_defaultOrder": 33,
    "_isFastLaunch": false,
    "category": "Accelerated computing",
    "gpuNum": 4,
    "hideHardwareSpecs": false,
    "memoryGiB": 192,
    "name": "ml.g4dn.12xlarge",
    "vcpuNum": 48
   },
   {
    "_defaultOrder": 34,
    "_isFastLaunch": false,
    "category": "Accelerated computing",
    "gpuNum": 1,
    "hideHardwareSpecs": false,
    "memoryGiB": 256,
    "name": "ml.g4dn.16xlarge",
    "vcpuNum": 64
   },
   {
    "_defaultOrder": 35,
    "_isFastLaunch": false,
    "category": "Accelerated computing",
    "gpuNum": 1,
    "hideHardwareSpecs": false,
    "memoryGiB": 61,
    "name": "ml.p3.2xlarge",
    "vcpuNum": 8
   },
   {
    "_defaultOrder": 36,
    "_isFastLaunch": false,
    "category": "Accelerated computing",
    "gpuNum": 4,
    "hideHardwareSpecs": false,
    "memoryGiB": 244,
    "name": "ml.p3.8xlarge",
    "vcpuNum": 32
   },
   {
    "_defaultOrder": 37,
    "_isFastLaunch": false,
    "category": "Accelerated computing",
    "gpuNum": 8,
    "hideHardwareSpecs": false,
    "memoryGiB": 488,
    "name": "ml.p3.16xlarge",
    "vcpuNum": 64
   },
   {
    "_defaultOrder": 38,
    "_isFastLaunch": false,
    "category": "Accelerated computing",
    "gpuNum": 8,
    "hideHardwareSpecs": false,
    "memoryGiB": 768,
    "name": "ml.p3dn.24xlarge",
    "vcpuNum": 96
   },
   {
    "_defaultOrder": 39,
    "_isFastLaunch": false,
    "category": "Memory Optimized",
    "gpuNum": 0,
    "hideHardwareSpecs": false,
    "memoryGiB": 16,
    "name": "ml.r5.large",
    "vcpuNum": 2
   },
   {
    "_defaultOrder": 40,
    "_isFastLaunch": false,
    "category": "Memory Optimized",
    "gpuNum": 0,
    "hideHardwareSpecs": false,
    "memoryGiB": 32,
    "name": "ml.r5.xlarge",
    "vcpuNum": 4
   },
   {
    "_defaultOrder": 41,
    "_isFastLaunch": false,
    "category": "Memory Optimized",
    "gpuNum": 0,
    "hideHardwareSpecs": false,
    "memoryGiB": 64,
    "name": "ml.r5.2xlarge",
    "vcpuNum": 8
   },
   {
    "_defaultOrder": 42,
    "_isFastLaunch": false,
    "category": "Memory Optimized",
    "gpuNum": 0,
    "hideHardwareSpecs": false,
    "memoryGiB": 128,
    "name": "ml.r5.4xlarge",
    "vcpuNum": 16
   },
   {
    "_defaultOrder": 43,
    "_isFastLaunch": false,
    "category": "Memory Optimized",
    "gpuNum": 0,
    "hideHardwareSpecs": false,
    "memoryGiB": 256,
    "name": "ml.r5.8xlarge",
    "vcpuNum": 32
   },
   {
    "_defaultOrder": 44,
    "_isFastLaunch": false,
    "category": "Memory Optimized",
    "gpuNum": 0,
    "hideHardwareSpecs": false,
    "memoryGiB": 384,
    "name": "ml.r5.12xlarge",
    "vcpuNum": 48
   },
   {
    "_defaultOrder": 45,
    "_isFastLaunch": false,
    "category": "Memory Optimized",
    "gpuNum": 0,
    "hideHardwareSpecs": false,
    "memoryGiB": 512,
    "name": "ml.r5.16xlarge",
    "vcpuNum": 64
   },
   {
    "_defaultOrder": 46,
    "_isFastLaunch": false,
    "category": "Memory Optimized",
    "gpuNum": 0,
    "hideHardwareSpecs": false,
    "memoryGiB": 768,
    "name": "ml.r5.24xlarge",
    "vcpuNum": 96
   },
   {
    "_defaultOrder": 47,
    "_isFastLaunch": false,
    "category": "Accelerated computing",
    "gpuNum": 1,
    "hideHardwareSpecs": false,
    "memoryGiB": 16,
    "name": "ml.g5.xlarge",
    "vcpuNum": 4
   },
   {
    "_defaultOrder": 48,
    "_isFastLaunch": false,
    "category": "Accelerated computing",
    "gpuNum": 1,
    "hideHardwareSpecs": false,
    "memoryGiB": 32,
    "name": "ml.g5.2xlarge",
    "vcpuNum": 8
   },
   {
    "_defaultOrder": 49,
    "_isFastLaunch": false,
    "category": "Accelerated computing",
    "gpuNum": 1,
    "hideHardwareSpecs": false,
    "memoryGiB": 64,
    "name": "ml.g5.4xlarge",
    "vcpuNum": 16
   },
   {
    "_defaultOrder": 50,
    "_isFastLaunch": false,
    "category": "Accelerated computing",
    "gpuNum": 1,
    "hideHardwareSpecs": false,
    "memoryGiB": 128,
    "name": "ml.g5.8xlarge",
    "vcpuNum": 32
   },
   {
    "_defaultOrder": 51,
    "_isFastLaunch": false,
    "category": "Accelerated computing",
    "gpuNum": 1,
    "hideHardwareSpecs": false,
    "memoryGiB": 256,
    "name": "ml.g5.16xlarge",
    "vcpuNum": 64
   },
   {
    "_defaultOrder": 52,
    "_isFastLaunch": false,
    "category": "Accelerated computing",
    "gpuNum": 4,
    "hideHardwareSpecs": false,
    "memoryGiB": 192,
    "name": "ml.g5.12xlarge",
    "vcpuNum": 48
   },
   {
    "_defaultOrder": 53,
    "_isFastLaunch": false,
    "category": "Accelerated computing",
    "gpuNum": 4,
    "hideHardwareSpecs": false,
    "memoryGiB": 384,
    "name": "ml.g5.24xlarge",
    "vcpuNum": 96
   },
   {
    "_defaultOrder": 54,
    "_isFastLaunch": false,
    "category": "Accelerated computing",
    "gpuNum": 8,
    "hideHardwareSpecs": false,
    "memoryGiB": 768,
    "name": "ml.g5.48xlarge",
    "vcpuNum": 192
   },
   {
    "_defaultOrder": 55,
    "_isFastLaunch": false,
    "category": "Accelerated computing",
    "gpuNum": 8,
    "hideHardwareSpecs": false,
    "memoryGiB": 1152,
    "name": "ml.p4d.24xlarge",
    "vcpuNum": 96
   },
   {
    "_defaultOrder": 56,
    "_isFastLaunch": false,
    "category": "Accelerated computing",
    "gpuNum": 8,
    "hideHardwareSpecs": false,
    "memoryGiB": 1152,
    "name": "ml.p4de.24xlarge",
    "vcpuNum": 96
   },
   {
    "_defaultOrder": 57,
    "_isFastLaunch": false,
    "category": "Accelerated computing",
    "gpuNum": 0,
    "hideHardwareSpecs": false,
    "memoryGiB": 32,
    "name": "ml.trn1.2xlarge",
    "vcpuNum": 8
   },
   {
    "_defaultOrder": 58,
    "_isFastLaunch": false,
    "category": "Accelerated computing",
    "gpuNum": 0,
    "hideHardwareSpecs": false,
    "memoryGiB": 512,
    "name": "ml.trn1.32xlarge",
    "vcpuNum": 128
   },
   {
    "_defaultOrder": 59,
    "_isFastLaunch": false,
    "category": "Accelerated computing",
    "gpuNum": 0,
    "hideHardwareSpecs": false,
    "memoryGiB": 512,
    "name": "ml.trn1n.32xlarge",
    "vcpuNum": 128
   }
  ],
  "instance_type": "ml.t3.medium",
  "kernelspec": {
   "display_name": "Python 3",
   "language": "python",
   "name": "python3"
  },
  "language_info": {
   "codemirror_mode": {
    "name": "ipython",
    "version": 3
   },
   "file_extension": ".py",
   "mimetype": "text/x-python",
   "name": "python",
   "nbconvert_exporter": "python",
   "pygments_lexer": "ipython3",
   "version": "3.9.8"
  }
 },
 "nbformat": 4,
 "nbformat_minor": 5
}
